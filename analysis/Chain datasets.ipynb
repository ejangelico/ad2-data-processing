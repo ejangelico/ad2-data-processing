{
 "cells": [
  {
   "cell_type": "code",
   "execution_count": 2,
   "id": "0383144e",
   "metadata": {},
   "outputs": [],
   "source": [
    "import matplotlib.pyplot as plt \n",
    "import numpy as np \n",
    "import pickle\n",
    "from datetime import datetime, timedelta\n",
    "import glob\n",
    "\n",
    "plt.style.use(\"~/evanstyle.mplstyle\")\n",
    "\n",
    "import sys\n",
    "sys.path.append(\"../Dataset/\")\n",
    "import Dataset"
   ]
  },
  {
   "cell_type": "code",
   "execution_count": null,
   "id": "36469550",
   "metadata": {},
   "outputs": [],
   "source": [
    "topdir = \"/p/lustre1/angelico/hv-test-chamber/Run4/cosmics-overnight/\"\n",
    "dataset_files = glob.glob(topdir+\"*dataset.p\")\n"
   ]
  }
 ],
 "metadata": {
  "kernelspec": {
   "display_name": "angelico-kernel-2023",
   "language": "python",
   "name": "angelico-kernel-2023"
  },
  "language_info": {
   "codemirror_mode": {
    "name": "ipython",
    "version": 3
   },
   "file_extension": ".py",
   "mimetype": "text/x-python",
   "name": "python",
   "nbconvert_exporter": "python",
   "pygments_lexer": "ipython3",
   "version": "3.9.12"
  }
 },
 "nbformat": 4,
 "nbformat_minor": 5
}
