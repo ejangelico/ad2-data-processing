{
 "cells": [
  {
   "cell_type": "code",
   "execution_count": 1,
   "id": "303c7d04",
   "metadata": {},
   "outputs": [],
   "source": [
    "import Dataset\n",
    "import matplotlib.pyplot as plt \n",
    "import numpy as np \n",
    "%matplotlib inline\n",
    "import mpld3\n",
    "import pickle\n",
    "import os\n",
    "from pathlib import Path\n",
    "from datetime import datetime, timedelta\n",
    "mpld3.enable_notebook()\n",
    "\n",
    "plt.style.use(\"~/evanstyle.mplstyle\")"
   ]
  },
  {
   "cell_type": "code",
   "execution_count": 4,
   "id": "35fd6374",
   "metadata": {},
   "outputs": [
    {
     "name": "stdout",
     "output_type": "stream",
     "text": [
      "Procesed:  ['10-8-21_012.p', '10-8-21_016.p', '10-8-21_000.p', '10-8-21_009.p', '10-8-21_014.p', '10-8-21_005.p', '10-8-21_007.p', '10-8-21_001.p', '10-8-21_002.p', '10-8-21_015.p', '10-8-21_008.p', '10-8-21_010.p', '10-8-21_004.p', '10-8-21_011.p', '10-8-21_013.p', '10-8-21_006.p', '10-8-21_003.p']\n"
     ]
    }
   ],
   "source": [
    "#topdir = \"/home/esiii_lxe/HV-test/9-22-2021/filling/processed/\"\n",
    "#topdir = \"/home/esiii_lxe/HV-test/8-16-21/cosmics-overnight/processed/\"\n",
    "#topdir = \"/home/esiii_lxe/HV-test/9-24-21/cosmics-overnight/processed/\"\n",
    "topdir = \"/home/esiii_lxe/HV-test/9-28-21/cosmic-fastsampling/processed/\"\n",
    "#topdir = \"/home/esiii_lxe/HV-test/9-29-21/emptying-cosmics/processed/\"\n",
    "file_list = [f for f in os.listdir(topdir) if os.path.isfile(os.path.join(topdir, f)) and f.endswith('.p') and f[0] == \"1\"]\n",
    "print(\"Procesed: \", end = ' ')\n",
    "print(file_list)"
   ]
  },
  {
   "cell_type": "code",
   "execution_count": 7,
   "id": "6bea1f03",
   "metadata": {},
   "outputs": [],
   "source": [
    "proc_file = file_list[0]\n",
    "d = pickle.load(open(topdir+proc_file, 'rb'))[0]"
   ]
  },
  {
   "cell_type": "code",
   "execution_count": 8,
   "id": "46e621ef",
   "metadata": {},
   "outputs": [],
   "source": [
    "red = d.reduced_df"
   ]
  },
  {
   "cell_type": "code",
   "execution_count": 10,
   "id": "e9694a90",
   "metadata": {},
   "outputs": [],
   "source": [
    "mask = (red[\"PMT1Integral\"] < -2.5) & (red[\"PMT1Amplitude\"] < -2.6)\n",
    "sel_df = red[mask]"
   ]
  },
  {
   "cell_type": "code",
   "execution_count": 11,
   "id": "489f2f7e",
   "metadata": {},
   "outputs": [
    {
     "name": "stdout",
     "output_type": "stream",
     "text": [
      "Index(['RogowskiVoltage', 'PMT1Amplitude', 'PMT2Amplitude', 'PMT1Peakidx',\n",
      "       'PMT2Peakidx', 'PMT1Integral', 'PMT2Integral', 'PMT1std', 'PMT2std',\n",
      "       'GlitchAmplitude', 'AnodeAmplitude', 'GlitchTau', 'AnodeTau',\n",
      "       'GlitchPeakidx', 'AnodePeakidx', 'GlitchIntegral', 'AnodeIntegral'],\n",
      "      dtype='object')\n"
     ]
    }
   ],
   "source": [
    "print(sel_df.columns)"
   ]
  },
  {
   "cell_type": "code",
   "execution_count": null,
   "id": "c27a8622",
   "metadata": {},
   "outputs": [],
   "source": []
  }
 ],
 "metadata": {
  "kernelspec": {
   "display_name": "Python 3 (ipykernel)",
   "language": "python",
   "name": "python3"
  },
  "language_info": {
   "codemirror_mode": {
    "name": "ipython",
    "version": 3
   },
   "file_extension": ".py",
   "mimetype": "text/x-python",
   "name": "python",
   "nbconvert_exporter": "python",
   "pygments_lexer": "ipython3",
   "version": "3.8.10"
  }
 },
 "nbformat": 4,
 "nbformat_minor": 5
}
