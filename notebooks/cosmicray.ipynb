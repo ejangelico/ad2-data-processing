{
 "cells": [
  {
   "cell_type": "code",
   "execution_count": 21,
   "metadata": {},
   "outputs": [],
   "source": [
    "import numpy as np \n",
    "import pandas as pd \n",
    "import matplotlib.pyplot as plt \n",
    "import datetime\n",
    "import glob\n",
    "import pickle\n",
    "from datetime import datetime, timedelta\n",
    "import sys\n",
    "from scipy.optimize import curve_fit\n",
    "from matplotlib.lines import Line2D\n",
    "\n",
    "\n",
    "from scipy.signal import find_peaks\n",
    "from scipy.ndimage import gaussian_filter\n",
    "\n",
    "plt.style.use(\"~/evanstyle.mplstyle\")\n",
    "colors = plt.rcParams['axes.prop_cycle'].by_key()['color']\n",
    "colors[1] = 'darkgreen'\n",
    "\n",
    "#import the folder that has the analysis level class\n",
    "sys.path.append(\"../CombinedData/\")\n",
    "sys.path.append(\"../AnalysisTools/\")\n",
    "import Dataset\n",
    "import AnalysisTools"
   ]
  },
  {
   "cell_type": "code",
   "execution_count": 22,
   "metadata": {},
   "outputs": [
    {
     "name": "stderr",
     "output_type": "stream",
     "text": [
      "/Users/linsi/Documents/stanford/HV/analysis/ad2-data-processing/notebooks/../AnalysisTools/AnalysisTools.py:137: UserWarning: genfromtxt: Empty input file: \"../../data/Run8/ds03/g_events.txt\"\n",
      "  d = np.genfromtxt(os.path.join(root, self.config[\"g_events_name\"]), delimiter=',', dtype=float)\n"
     ]
    }
   ],
   "source": [
    "#toproot = \"/p/lustre2/nexouser/data/StanfordData/angelico/hv-test-chamber/\"\n",
    "toproot = \"../../data/\"\n",
    "topdirs = {7:toproot+\"Run7/\", 8:toproot+\"Run8/\", 9:toproot+\"Run9/\"}\n",
    "configs = {5:\"../configs/run5_config.yaml\", 6:\"../configs/run6_config.yaml\", 7:\"../configs/run7_config.yaml\", 8:\"../configs/run8_config.yaml\", 9:\"../configs/run9_config.yaml\"}\n",
    "titles = {5:\"SS uncoated\", 6:\"Refill of SS uncoated\", 7:\"MgF2 (50nm)\", 8:\"Pt (50nm)\", 9:\"MgF2 (20nm)\"}\n",
    "red_file_name = \"combined_reduced.p\"\n",
    "#analysis tools objects, unloaded data\n",
    "anas = {}\n",
    "for n in topdirs:\n",
    "    anas[n] = AnalysisTools.AnalysisTools(topdirs[n]+red_file_name, configs[n], title=titles[n], ramp_topdir=topdirs[n])\n",
    "\n"
   ]
  },
  {
   "cell_type": "code",
   "execution_count": 23,
   "metadata": {},
   "outputs": [],
   "source": [
    "#load data into mem if you want\n",
    "for n, ana in anas.items():\n",
    "    if(n == 6 or n == 5): continue\n",
    "    ana.load_dataframe()"
   ]
  },
  {
   "cell_type": "code",
   "execution_count": 24,
   "metadata": {},
   "outputs": [
    {
     "name": "stdout",
     "output_type": "stream",
     "text": [
      "66397    1.068541\n",
      "Name: ch3 charge, dtype: object\n"
     ]
    }
   ],
   "source": [
    "ana = anas[7]\n",
    "df7 = ana.df\n",
    "df7 = df7[~df7[\"ch3 charge\"].isna()]\n",
    "mask = (df7[\"ch3 charge\"] > 1)\n",
    "df7_charge_events = df7[mask].copy()\n",
    "print(df7_charge_events[\"ch3 charge\"])"
   ]
  },
  {
   "cell_type": "code",
   "execution_count": null,
   "metadata": {},
   "outputs": [],
   "source": []
  }
 ],
 "metadata": {
  "kernelspec": {
   "display_name": "Python 3",
   "language": "python",
   "name": "python3"
  },
  "language_info": {
   "codemirror_mode": {
    "name": "ipython",
    "version": 3
   },
   "file_extension": ".py",
   "mimetype": "text/x-python",
   "name": "python",
   "nbconvert_exporter": "python",
   "pygments_lexer": "ipython3",
   "version": "3.9.6"
  }
 },
 "nbformat": 4,
 "nbformat_minor": 2
}
