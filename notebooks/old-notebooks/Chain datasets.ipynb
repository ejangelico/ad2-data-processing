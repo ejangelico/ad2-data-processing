{
 "cells": [
  {
   "cell_type": "code",
   "execution_count": 1,
   "id": "91a8364c",
   "metadata": {},
   "outputs": [],
   "source": [
    "import matplotlib.pyplot as plt \n",
    "import numpy as np \n",
    "import pickle\n",
    "from datetime import datetime, timedelta\n",
    "import glob\n",
    "\n",
    "plt.style.use(\"~/evanstyle.mplstyle\")\n",
    "\n",
    "import sys\n",
    "sys.path.append(\"../Dataset/\")\n",
    "import Dataset"
   ]
  },
  {
   "cell_type": "code",
   "execution_count": 3,
   "id": "9417ec23",
   "metadata": {},
   "outputs": [
    {
     "name": "stdout",
     "output_type": "stream",
     "text": [
      "on dataset /p/lustre1/angelico/hv-test-chamber/Run4/cosmics-overnight/60000-dataset.p\n",
      "on dataset /p/lustre1/angelico/hv-test-chamber/Run4/cosmics-overnight/65000-dataset.p\n",
      "Adding together to the chained dataset...\n",
      "on dataset /p/lustre1/angelico/hv-test-chamber/Run4/cosmics-overnight/75000-dataset.p\n",
      "Adding together to the chained dataset...\n",
      "on dataset /p/lustre1/angelico/hv-test-chamber/Run4/cosmics-overnight/80000-dataset.p\n",
      "Adding together to the chained dataset...\n",
      "on dataset /p/lustre1/angelico/hv-test-chamber/Run4/cosmics-overnight/70000-dataset.p\n",
      "Adding together to the chained dataset...\n",
      "on dataset /p/lustre1/angelico/hv-test-chamber/Run4/cosmics-overnight/0-dataset.p\n",
      "Adding together to the chained dataset...\n"
     ]
    }
   ],
   "source": [
    "topdir = \"/p/lustre1/angelico/hv-test-chamber/Run4/cosmics-overnight/\"\n",
    "dataset_files = glob.glob(topdir+\"*dataset.p\")\n",
    "d = None\n",
    "for f in dataset_files:\n",
    "    print(\"on dataset \" + f)\n",
    "    d_temp = pickle.load(open(f, \"rb\"))[0]\n",
    "    #these lines because the data was processed before the __add__ function was created\n",
    "    dd = Dataset.Dataset(d_temp.topdir)\n",
    "    dd.reduced_df = d_temp.reduced_df\n",
    "    dd.wave_df = d_temp.wave_df\n",
    "    dd.separated_file_lists = d_temp.separated_file_lists\n",
    "    dd.separated_timestamps = d_temp.separated_timestamps\n",
    "    dd.file_prefixes = d_temp.file_prefixes\n",
    "    dd.g_events = d_temp.g_events\n",
    "    dd.g_events_file = d_temp.g_events_file\n",
    "    dd.time_paired_files = d_temp.time_paired_files\n",
    "    dd.date_of_dataset = d_temp.date_of_dataset\n",
    "    dd.config_dict = d_temp.config_dict\n",
    "    dd.avg_wave = d_temp.avg_wave\n",
    "    \n",
    "    if(d is None):\n",
    "        d = dd\n",
    "        continue\n",
    "    \n",
    "    print(\"Adding together to the chained dataset...\")\n",
    "    d = d.__add__(dd) #chain the two together\n"
   ]
  },
  {
   "cell_type": "code",
   "execution_count": 4,
   "id": "698ded23",
   "metadata": {},
   "outputs": [
    {
     "name": "stdout",
     "output_type": "stream",
     "text": [
      "You have chained a dataset together with 27436 events in the reduced df\n"
     ]
    }
   ],
   "source": [
    "print(\"You have chained a dataset together with {:d} events in the reduced df\".format(len(d.reduced_df.index)))"
   ]
  },
  {
   "cell_type": "code",
   "execution_count": 5,
   "id": "32e5a32e",
   "metadata": {},
   "outputs": [],
   "source": [
    "pickle.dump([d], open(topdir+\"dataset-chained.p\", \"wb\"))"
   ]
  },
  {
   "cell_type": "code",
   "execution_count": null,
   "id": "0094d65e",
   "metadata": {},
   "outputs": [],
   "source": []
  }
 ],
 "metadata": {
  "kernelspec": {
   "display_name": "angelico-kernel-2023",
   "language": "python",
   "name": "angelico-kernel-2023"
  },
  "language_info": {
   "codemirror_mode": {
    "name": "ipython",
    "version": 3
   },
   "file_extension": ".py",
   "mimetype": "text/x-python",
   "name": "python",
   "nbconvert_exporter": "python",
   "pygments_lexer": "ipython3",
   "version": "3.9.12"
  }
 },
 "nbformat": 4,
 "nbformat_minor": 5
}
