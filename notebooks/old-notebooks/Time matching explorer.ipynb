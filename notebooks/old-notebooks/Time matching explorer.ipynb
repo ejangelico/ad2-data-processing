{
 "cells": [
  {
   "cell_type": "code",
   "execution_count": 28,
   "metadata": {},
   "outputs": [],
   "source": [
    "import os\n",
    "import sys\n",
    "import numpy as np\n",
    "import time\n",
    "%matplotlib inline\n",
    "import mpld3\n",
    "mpld3.enable_notebook()\n",
    "import matplotlib\n",
    "import matplotlib.pyplot as plt \n",
    "import time\n",
    "from datetime import datetime, timedelta\n",
    "\n",
    "plt.rcParams['figure.figsize'] = (10.0, 8.0)"
   ]
  },
  {
   "cell_type": "code",
   "execution_count": 85,
   "metadata": {},
   "outputs": [
    {
     "name": "stdout",
     "output_type": "stream",
     "text": [
      "Found : 124 csv files in ./8-15-21/filter-test/30kV/, dataset 0\n",
      "Found : 17129 csv files in ./8-15-21/5kV-pmts/, dataset 1\n",
      "Found : 12 csv files in ./8-15-21/5kV-glitch/, dataset 2\n"
     ]
    }
   ],
   "source": [
    "datasets = {0: \"./8-15-21/filter-test/30kV/\", \\\n",
    "           1: \"./8-15-21/5kV-pmts/\", \\\n",
    "           2: \"./8-15-21/5kV-glitch/\"}\n",
    "\n",
    "for key, filepath in datasets.items():\n",
    "    if(os.path.isdir(filepath) == False):\n",
    "        print(\"WARNING: \" + filepath + \" is not a directory\")\n",
    "        continue\n",
    "    else:\n",
    "        files = [name for name in os.listdir(filepath) if os.path.isfile(os.path.join(filepath, name))]\n",
    "        files = [_ for _ in files if _[-3:] == \"csv\"]\n",
    "        num_files = len(files)\n",
    "        if(num_files == 0):\n",
    "            print(\"WARNING: no csv files in \" + filepath)\n",
    "        else:\n",
    "            print(\"Found : \" + str(num_files) + \" csv files in \" + filepath + \", dataset \" + str(key))\n",
    "\n",
    "    \n"
   ]
  },
  {
   "cell_type": "markdown",
   "metadata": {},
   "source": [
    "## Utility functions for parsing file names"
   ]
  },
  {
   "cell_type": "code",
   "execution_count": 64,
   "metadata": {},
   "outputs": [],
   "source": [
    "\n",
    "def parse_timestamp_from_filename(infile):\n",
    "    #infile looks like /path/to/data/file/pmt06.15.23.43.132.csv (day, hour, minute, second, milli)\n",
    "    fn = infile.split('/')[-1]\n",
    "    t = fn.split(\".\")\n",
    "    t[0] = t[0][-2:] #ignore the filetag prefix\n",
    "    timestamp = datetime.strptime('.'.join(t[:-1]), \"%d.%H.%M.%S.%f\")\n",
    "    return timestamp\n",
    "\n",
    "\n",
    "#looks at the input directory (a dataset) and\n",
    "#finds all .csv files, separating them by file prefix\n",
    "def get_separated_file_lists(indir, file_prefixes, nevents=None):\n",
    "    #full list of .csv files\n",
    "    file_list = []\n",
    "    if(nevents is not None):\n",
    "        for i, f in enumerate(os.listdir(indir)):\n",
    "            if(i > nevents):\n",
    "                break\n",
    "            if(os.path.isfile(os.path.join(indir, f)) \\\n",
    "                 and f.endswith('.csv')):\n",
    "                file_list.append(f)\n",
    "    else:\n",
    "        file_list = [f for f in os.listdir(indir) if os.path.isfile(os.path.join(indir, f)) \\\n",
    "                 and f.endswith('.csv')]\n",
    "\n",
    "    separate_file_lists = {}\n",
    "    for pref in file_prefixes:\n",
    "        #selects filenames by prefix. so separate_file_lists['pmt'] = ['pmt14.53.24.449', 'pmt10.34....', ...]\n",
    "        separate_file_lists[pref] = list(filter(lambda x: x[:len(pref)] == pref, file_list))  \n",
    "    \n",
    "    return separate_file_lists\n",
    "\n",
    "#converts the dictionary of separated file lists into\n",
    "#a dictionary of separated timestamps (units milliseconds)\n",
    "def get_separated_timestamps(separated_file_lists):\n",
    "    separated_timestamps = {}\n",
    "    for pref in separated_file_lists:\n",
    "        separated_timestamps[pref] = [parse_timestamp_from_filename(f) for f\\\n",
    "                                      in separated_file_lists[pref]]\n",
    "        \n",
    "        #if there are none from one of the prefixes, return empty lists\n",
    "        if(len(separated_timestamps[pref]) == 0):\n",
    "            separated_file_lists[pref] = []\n",
    "            continue\n",
    "            \n",
    "        #sort both the timestamps lists and the filelists\n",
    "        #simultaneously by the timestamps\n",
    "        separated_timestamps[pref], separated_file_lists[pref] = \\\n",
    "        (list(t) for t in zip(*sorted(zip(separated_timestamps[pref], separated_file_lists[pref]))))\n",
    "    \n",
    "    return separated_timestamps, separated_file_lists\n",
    "\n",
    "def get_sampling_period_from_file(infile):\n",
    "    #parse header for the timestep\n",
    "    f = open(infile, 'r', errors='ignore')\n",
    "    ls = f.readlines()\n",
    "    raw_sample_rate = ls[4]\n",
    "    raw_sample_rate = raw_sample_rate.split(' ')[-1]\n",
    "    raw_sample_rate = float(raw_sample_rate.split('H')[0])\n",
    "    return (1.0/raw_sample_rate)*1e9 #nanoseconds\n"
   ]
  },
  {
   "cell_type": "markdown",
   "metadata": {},
   "source": [
    "## Demonstrate plotting a single datasets timestamps relative to the start of the entire run"
   ]
  },
  {
   "cell_type": "code",
   "execution_count": 86,
   "metadata": {},
   "outputs": [
    {
     "name": "stdout",
     "output_type": "stream",
     "text": [
      "Took 0.001737833023071289 seconds to load  6 pmt files, 6 anode files, \n",
      "\n"
     ]
    }
   ],
   "source": [
    "#the part of the filename before the timestamp. \n",
    "#used to distinguish the two oscilloscopes\n",
    "file_prefixes = [\"pmt\", \"anode\"]\n",
    "\n",
    "\n",
    "#load some timestamps from a dataset of your choosing\n",
    "dataset = datasets[2]\n",
    "t0 = time.time()\n",
    "nevents = 100000\n",
    "separated_file_lists = get_separated_file_lists(dataset, file_prefixes, nevents)\n",
    "separated_timestamps, separated_file_lists = get_separated_timestamps(separated_file_lists)\n",
    "\n",
    "#print timing\n",
    "print(\"Took \" + str(time.time() - t0) + \" seconds to load \", end=' ')\n",
    "for pref in separated_timestamps:\n",
    "    print(str(len(separated_timestamps[pref])) + \" \" + pref + \" files,\", end=' ')\n",
    "print(\"\\n\")\n",
    "#end print timing"
   ]
  },
  {
   "cell_type": "code",
   "execution_count": 88,
   "metadata": {},
   "outputs": [],
   "source": [
    "#provides zeroed timestamps with millisecond resolution in units of\n",
    "#hours, minutes, and seconds. the time zero is based on the run reference,\n",
    "#which is a datetime object (as are the separated timestamps)\n",
    "def convert_timestamps_to_realtime(separated_timestamps, run_reference, dataset_date):\n",
    "    sep_times_h = {}\n",
    "    sep_times_m = {}\n",
    "    sep_times_s = {}\n",
    "    reftime = separated_timestamps[\"pmt\"][0]\n",
    "    for pref, stamps in separated_timestamps.items():\n",
    "        zeroed_timedeltas = [_ - reftime for _ in stamps]\n",
    "        days = [_.days for _ in zeroed_timedeltas]\n",
    "        seconds = [_.seconds for _ in zeroed_timedeltas]\n",
    "        ms = [_.microseconds / 1000 for _ in zeroed_timedeltas]\n",
    "        sep_times_h[pref] = [days[i]*24 + seconds[i]/3600 + ms[i]/3600/1000 for i in range(len(zeroed_timedeltas))]\n",
    "        sep_times_m[pref] = [_*60 for _ in sep_times_h[pref]]\n",
    "        sep_times_s[pref] = [_*60 for _ in sep_times_m[pref]]\n",
    "    \n",
    "    return sep_times_h, sep_times_m, sep_times_s\n",
    "        \n",
    "            \n",
    "        \n",
    "\n",
    "\n",
    "run_reference = datetime.strptime(\"8-15-21\", \"%m-%d-%y\")\n",
    "dataset_date = \"8-15-21\"\n",
    "#this one you need to be careful and know info on the dataset, \n",
    "#see comment by \"convert_timestamps_to_realtime\"\n",
    "sep_times_h, sep_times_m, sep_times_s = convert_timestamps_to_realtime(separated_timestamps, run_reference, dataset_date)"
   ]
  },
  {
   "cell_type": "code",
   "execution_count": null,
   "metadata": {},
   "outputs": [],
   "source": [
    "#makes a histogram of event times, binned to see \"differential\" rate.\n",
    "#also makes a funny upsidedown, infinitessimal histogram to compare times across pmt/anode\n",
    "fig, (axhist, axscat) = plt.subplots(nrows = 2, figsize=(10, 16))\n",
    "binwidth = 2 #minutes\n",
    "\n",
    "yticks = [0, 1]\n",
    "pref_vals = file_prefixes\n",
    "for i, pref in enumerate(file_prefixes):\n",
    "    bins = np.arange(min(sep_times_m[pref]), max(sep_times_m[pref]), binwidth)\n",
    "    axhist.hist(sep_times_m[pref], bins, label=pref)\n",
    "    \n",
    "    axscat.scatter(np.array(sep_times_s[pref]), [yticks[i]]*len(sep_times_s[pref]),  marker='|', s=5000)\n",
    "\n",
    "\n",
    "axscat.set_xlabel(\"event time (seconds since run start)\")\n",
    "axhist.set_xlabel(\"event time (minutes since midnight)\")\n",
    "axhist.set_ylabel(\"events per \" + str(binwidth) + \" minute binwidth\")\n",
    "#for funny plot\n",
    "axscat.set_ylim([-3, 3])\n",
    "axscat.set_yticks(yticks)\n",
    "axscat.set_yticklabels(pref_vals)\n",
    "axscat.grid(False)\n",
    "\n",
    "axhist.legend()\n",
    "\n",
    "plt.show()"
   ]
  },
  {
   "cell_type": "code",
   "execution_count": 75,
   "metadata": {},
   "outputs": [
    {
     "ename": "TypingError",
     "evalue": "Failed in nopython mode pipeline (step: nopython frontend)\n\u001b[1m\u001b[1m\u001b[1m\u001b[1m\u001b[1m\u001b[1m\u001b[1m\u001b[1mFailed in nopython mode pipeline (step: nopython frontend)\n\u001b[1m\u001b[1mUnknown attribute 'max' of type reflected list(float64)<iv=None>\n\u001b[1m\nFile \"../.local/lib/python3.8/site-packages/pycorrelate/pycorrelate.py\", line 38:\u001b[0m\n\u001b[1mdef pnormalize(G, t, u, bins):\n    <source elided>\n    \"\"\"\n\u001b[1m    duration = max((t.max(), u.max())) - min((t.min(), u.min()))\n\u001b[0m    \u001b[1m^\u001b[0m\u001b[0m\n\u001b[0m\n\u001b[0m\u001b[1mDuring: typing of get attribute at /home/esiii_lxe/.local/lib/python3.8/site-packages/pycorrelate/pycorrelate.py (38)\u001b[0m\n\u001b[1m\nFile \"../.local/lib/python3.8/site-packages/pycorrelate/pycorrelate.py\", line 38:\u001b[0m\n\u001b[1mdef pnormalize(G, t, u, bins):\n    <source elided>\n    \"\"\"\n\u001b[1m    duration = max((t.max(), u.max())) - min((t.min(), u.min()))\n\u001b[0m    \u001b[1m^\u001b[0m\u001b[0m\n\n\u001b[0m\u001b[1mDuring: resolving callee type: type(CPUDispatcher(<function pnormalize at 0x7f60a36ce040>))\u001b[0m\n\u001b[0m\u001b[1mDuring: typing of call at /home/esiii_lxe/.local/lib/python3.8/site-packages/pycorrelate/pycorrelate.py (113)\n\u001b[0m\n\u001b[0m\u001b[1mDuring: resolving callee type: type(CPUDispatcher(<function pnormalize at 0x7f60a36ce040>))\u001b[0m\n\u001b[0m\u001b[1mDuring: typing of call at /home/esiii_lxe/.local/lib/python3.8/site-packages/pycorrelate/pycorrelate.py (113)\n\u001b[0m\n\u001b[0m\u001b[1mDuring: resolving callee type: type(CPUDispatcher(<function pnormalize at 0x7f60a36ce040>))\u001b[0m\n\u001b[0m\u001b[1mDuring: typing of call at /home/esiii_lxe/.local/lib/python3.8/site-packages/pycorrelate/pycorrelate.py (113)\n\u001b[0m\n\u001b[0m\u001b[1mDuring: resolving callee type: type(CPUDispatcher(<function pnormalize at 0x7f60a36ce040>))\u001b[0m\n\u001b[0m\u001b[1mDuring: typing of call at /home/esiii_lxe/.local/lib/python3.8/site-packages/pycorrelate/pycorrelate.py (113)\n\u001b[0m\n\u001b[1m\nFile \"../.local/lib/python3.8/site-packages/pycorrelate/pycorrelate.py\", line 113:\u001b[0m\n\u001b[1mdef pcorrelate(t, u, bins, normalize=False):\n    <source elided>\n    if normalize:\n\u001b[1m        G = pnormalize(G, t, u, bins)\n\u001b[0m        \u001b[1m^\u001b[0m\u001b[0m\n",
     "output_type": "error",
     "traceback": [
      "\u001b[0;31m---------------------------------------------------------------------------\u001b[0m",
      "\u001b[0;31mTypingError\u001b[0m                               Traceback (most recent call last)",
      "\u001b[0;32m/tmp/ipykernel_138117/2687934322.py\u001b[0m in \u001b[0;36m<module>\u001b[0;34m\u001b[0m\n\u001b[1;32m      4\u001b[0m \u001b[0mcorr_dt\u001b[0m \u001b[0;34m=\u001b[0m \u001b[0;36m.1\u001b[0m \u001b[0;31m#seconds to bin the time-lag correlation\u001b[0m\u001b[0;34m\u001b[0m\u001b[0;34m\u001b[0m\u001b[0m\n\u001b[1;32m      5\u001b[0m \u001b[0mcorr_bins\u001b[0m \u001b[0;34m=\u001b[0m \u001b[0mnp\u001b[0m\u001b[0;34m.\u001b[0m\u001b[0marange\u001b[0m\u001b[0;34m(\u001b[0m\u001b[0;34m-\u001b[0m\u001b[0;36m50\u001b[0m\u001b[0;34m,\u001b[0m \u001b[0;36m50\u001b[0m\u001b[0;34m,\u001b[0m \u001b[0mcorr_dt\u001b[0m\u001b[0;34m)\u001b[0m\u001b[0;34m\u001b[0m\u001b[0;34m\u001b[0m\u001b[0m\n\u001b[0;32m----> 6\u001b[0;31m \u001b[0mcorr\u001b[0m \u001b[0;34m=\u001b[0m \u001b[0mpycorrelate\u001b[0m\u001b[0;34m.\u001b[0m\u001b[0mpycorrelate\u001b[0m\u001b[0;34m.\u001b[0m\u001b[0mpcorrelate\u001b[0m\u001b[0;34m(\u001b[0m\u001b[0msep_times_s\u001b[0m\u001b[0;34m[\u001b[0m\u001b[0;34m'pmt'\u001b[0m\u001b[0;34m]\u001b[0m\u001b[0;34m,\u001b[0m \u001b[0msep_times_s\u001b[0m\u001b[0;34m[\u001b[0m\u001b[0;34m'anode'\u001b[0m\u001b[0;34m]\u001b[0m\u001b[0;34m,\u001b[0m \u001b[0mcorr_bins\u001b[0m\u001b[0;34m,\u001b[0m \u001b[0mnormalize\u001b[0m\u001b[0;34m=\u001b[0m\u001b[0;32mTrue\u001b[0m\u001b[0;34m)\u001b[0m\u001b[0;34m\u001b[0m\u001b[0;34m\u001b[0m\u001b[0m\n\u001b[0m\u001b[1;32m      7\u001b[0m \u001b[0mshift\u001b[0m \u001b[0;34m=\u001b[0m \u001b[0mcorr_bins\u001b[0m\u001b[0;34m[\u001b[0m\u001b[0mnp\u001b[0m\u001b[0;34m.\u001b[0m\u001b[0margmax\u001b[0m\u001b[0;34m(\u001b[0m\u001b[0mcorr\u001b[0m\u001b[0;34m)\u001b[0m\u001b[0;34m]\u001b[0m\u001b[0;34m\u001b[0m\u001b[0;34m\u001b[0m\u001b[0m\n\u001b[1;32m      8\u001b[0m \u001b[0mfig\u001b[0m\u001b[0;34m,\u001b[0m \u001b[0max\u001b[0m \u001b[0;34m=\u001b[0m \u001b[0mplt\u001b[0m\u001b[0;34m.\u001b[0m\u001b[0msubplots\u001b[0m\u001b[0;34m(\u001b[0m\u001b[0mfigsize\u001b[0m\u001b[0;34m=\u001b[0m\u001b[0;34m(\u001b[0m\u001b[0;36m10\u001b[0m\u001b[0;34m,\u001b[0m \u001b[0;36m7\u001b[0m\u001b[0;34m)\u001b[0m\u001b[0;34m)\u001b[0m\u001b[0;34m\u001b[0m\u001b[0;34m\u001b[0m\u001b[0m\n",
      "\u001b[0;32m~/.local/lib/python3.8/site-packages/numba/core/dispatcher.py\u001b[0m in \u001b[0;36m_compile_for_args\u001b[0;34m(self, *args, **kws)\u001b[0m\n\u001b[1;32m    418\u001b[0m                 \u001b[0me\u001b[0m\u001b[0;34m.\u001b[0m\u001b[0mpatch_message\u001b[0m\u001b[0;34m(\u001b[0m\u001b[0mmsg\u001b[0m\u001b[0;34m)\u001b[0m\u001b[0;34m\u001b[0m\u001b[0;34m\u001b[0m\u001b[0m\n\u001b[1;32m    419\u001b[0m \u001b[0;34m\u001b[0m\u001b[0m\n\u001b[0;32m--> 420\u001b[0;31m             \u001b[0merror_rewrite\u001b[0m\u001b[0;34m(\u001b[0m\u001b[0me\u001b[0m\u001b[0;34m,\u001b[0m \u001b[0;34m'typing'\u001b[0m\u001b[0;34m)\u001b[0m\u001b[0;34m\u001b[0m\u001b[0;34m\u001b[0m\u001b[0m\n\u001b[0m\u001b[1;32m    421\u001b[0m         \u001b[0;32mexcept\u001b[0m \u001b[0merrors\u001b[0m\u001b[0;34m.\u001b[0m\u001b[0mUnsupportedError\u001b[0m \u001b[0;32mas\u001b[0m \u001b[0me\u001b[0m\u001b[0;34m:\u001b[0m\u001b[0;34m\u001b[0m\u001b[0;34m\u001b[0m\u001b[0m\n\u001b[1;32m    422\u001b[0m             \u001b[0;31m# Something unsupported is present in the user code, add help info\u001b[0m\u001b[0;34m\u001b[0m\u001b[0;34m\u001b[0m\u001b[0;34m\u001b[0m\u001b[0m\n",
      "\u001b[0;32m~/.local/lib/python3.8/site-packages/numba/core/dispatcher.py\u001b[0m in \u001b[0;36merror_rewrite\u001b[0;34m(e, issue_type)\u001b[0m\n\u001b[1;32m    359\u001b[0m                 \u001b[0;32mraise\u001b[0m \u001b[0me\u001b[0m\u001b[0;34m\u001b[0m\u001b[0;34m\u001b[0m\u001b[0m\n\u001b[1;32m    360\u001b[0m             \u001b[0;32melse\u001b[0m\u001b[0;34m:\u001b[0m\u001b[0;34m\u001b[0m\u001b[0;34m\u001b[0m\u001b[0m\n\u001b[0;32m--> 361\u001b[0;31m                 \u001b[0;32mraise\u001b[0m \u001b[0me\u001b[0m\u001b[0;34m.\u001b[0m\u001b[0mwith_traceback\u001b[0m\u001b[0;34m(\u001b[0m\u001b[0;32mNone\u001b[0m\u001b[0;34m)\u001b[0m\u001b[0;34m\u001b[0m\u001b[0;34m\u001b[0m\u001b[0m\n\u001b[0m\u001b[1;32m    362\u001b[0m \u001b[0;34m\u001b[0m\u001b[0m\n\u001b[1;32m    363\u001b[0m         \u001b[0margtypes\u001b[0m \u001b[0;34m=\u001b[0m \u001b[0;34m[\u001b[0m\u001b[0;34m]\u001b[0m\u001b[0;34m\u001b[0m\u001b[0;34m\u001b[0m\u001b[0m\n",
      "\u001b[0;31mTypingError\u001b[0m: Failed in nopython mode pipeline (step: nopython frontend)\n\u001b[1m\u001b[1m\u001b[1m\u001b[1m\u001b[1m\u001b[1m\u001b[1m\u001b[1mFailed in nopython mode pipeline (step: nopython frontend)\n\u001b[1m\u001b[1mUnknown attribute 'max' of type reflected list(float64)<iv=None>\n\u001b[1m\nFile \"../.local/lib/python3.8/site-packages/pycorrelate/pycorrelate.py\", line 38:\u001b[0m\n\u001b[1mdef pnormalize(G, t, u, bins):\n    <source elided>\n    \"\"\"\n\u001b[1m    duration = max((t.max(), u.max())) - min((t.min(), u.min()))\n\u001b[0m    \u001b[1m^\u001b[0m\u001b[0m\n\u001b[0m\n\u001b[0m\u001b[1mDuring: typing of get attribute at /home/esiii_lxe/.local/lib/python3.8/site-packages/pycorrelate/pycorrelate.py (38)\u001b[0m\n\u001b[1m\nFile \"../.local/lib/python3.8/site-packages/pycorrelate/pycorrelate.py\", line 38:\u001b[0m\n\u001b[1mdef pnormalize(G, t, u, bins):\n    <source elided>\n    \"\"\"\n\u001b[1m    duration = max((t.max(), u.max())) - min((t.min(), u.min()))\n\u001b[0m    \u001b[1m^\u001b[0m\u001b[0m\n\n\u001b[0m\u001b[1mDuring: resolving callee type: type(CPUDispatcher(<function pnormalize at 0x7f60a36ce040>))\u001b[0m\n\u001b[0m\u001b[1mDuring: typing of call at /home/esiii_lxe/.local/lib/python3.8/site-packages/pycorrelate/pycorrelate.py (113)\n\u001b[0m\n\u001b[0m\u001b[1mDuring: resolving callee type: type(CPUDispatcher(<function pnormalize at 0x7f60a36ce040>))\u001b[0m\n\u001b[0m\u001b[1mDuring: typing of call at /home/esiii_lxe/.local/lib/python3.8/site-packages/pycorrelate/pycorrelate.py (113)\n\u001b[0m\n\u001b[0m\u001b[1mDuring: resolving callee type: type(CPUDispatcher(<function pnormalize at 0x7f60a36ce040>))\u001b[0m\n\u001b[0m\u001b[1mDuring: typing of call at /home/esiii_lxe/.local/lib/python3.8/site-packages/pycorrelate/pycorrelate.py (113)\n\u001b[0m\n\u001b[0m\u001b[1mDuring: resolving callee type: type(CPUDispatcher(<function pnormalize at 0x7f60a36ce040>))\u001b[0m\n\u001b[0m\u001b[1mDuring: typing of call at /home/esiii_lxe/.local/lib/python3.8/site-packages/pycorrelate/pycorrelate.py (113)\n\u001b[0m\n\u001b[1m\nFile \"../.local/lib/python3.8/site-packages/pycorrelate/pycorrelate.py\", line 113:\u001b[0m\n\u001b[1mdef pcorrelate(t, u, bins, normalize=False):\n    <source elided>\n    if normalize:\n\u001b[1m        G = pnormalize(G, t, u, bins)\n\u001b[0m        \u001b[1m^\u001b[0m\u001b[0m\n"
     ]
    }
   ],
   "source": [
    "#correlation of timestamps\n",
    "import pycorrelate\n",
    "\n",
    "corr_dt = .1 #seconds to bin the time-lag correlation\n",
    "corr_bins = np.arange(-50, 50, corr_dt)\n",
    "corr = pycorrelate.pycorrelate.pcorrelate(sep_times_s['pmt'], sep_times_s['anode'], corr_bins, normalize=True)\n",
    "shift = corr_bins[np.argmax(corr)]\n",
    "fig, ax = plt.subplots(figsize=(10, 7))\n",
    "ax.plot(corr_bins[:-1], corr, label=\"Max at \" + str(shift))\n",
    "ax.legend()\n",
    "plt.show()\n",
    "\n",
    "\n",
    "pmt_sep_times_s_shifted = sep_times_s['pmt'] - shift\n",
    "fig, ax = plt.subplots(figsize=(10, 7))\n",
    "ax.scatter(np.array(pmt_sep_times_s_shifted), [yticks[0]]*len(pmt_sep_times_s_shifted),  marker='|', s=5000)\n",
    "ax.scatter(np.array(sep_times_s['anode']), [yticks[1]]*len(sep_times_s['anode']),  marker='|', s=5000)\n",
    "ax.set_ylim([-3, 3])\n",
    "ax.set_yticks(yticks)\n",
    "ax.set_yticklabels(pref_vals)\n",
    "ax.grid(False)\n",
    "plt.show()"
   ]
  },
  {
   "cell_type": "code",
   "execution_count": null,
   "metadata": {},
   "outputs": [],
   "source": []
  },
  {
   "cell_type": "code",
   "execution_count": null,
   "metadata": {},
   "outputs": [],
   "source": []
  }
 ],
 "metadata": {
  "kernelspec": {
   "display_name": "Python 3 (ipykernel)",
   "language": "python",
   "name": "python3"
  },
  "language_info": {
   "codemirror_mode": {
    "name": "ipython",
    "version": 3
   },
   "file_extension": ".py",
   "mimetype": "text/x-python",
   "name": "python",
   "nbconvert_exporter": "python",
   "pygments_lexer": "ipython3",
   "version": "3.8.10"
  }
 },
 "nbformat": 4,
 "nbformat_minor": 4
}
