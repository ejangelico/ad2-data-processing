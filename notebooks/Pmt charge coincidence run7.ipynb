{
 "cells": [
  {
   "cell_type": "code",
   "execution_count": 1,
   "metadata": {},
   "outputs": [],
   "source": [
    "import numpy as np \n",
    "import pandas as pd \n",
    "import matplotlib.pyplot as plt \n",
    "import datetime\n",
    "import glob\n",
    "import pickle\n",
    "from datetime import datetime, timedelta\n",
    "import sys\n",
    "\n",
    "#import the folder that has the analysis level class\n",
    "sys.path.append(\"../CombinedData/\")\n",
    "import Dataset"
   ]
  },
  {
   "cell_type": "code",
   "execution_count": 2,
   "metadata": {},
   "outputs": [],
   "source": [
    "topdir = \"../../data/Run7/\"\n",
    "datasets = [\"cosmics-endofrun/\", \"ds01/\",\"ds02/\",\"ds03/\", \"ds04/\",\"ds05/\",\"ds06/\",\"ds07/\",\\\n",
    "        \"ds08/\",\"ds09/\",\"ds10/\",\"ds11/\",\"filling/\", \"room-temp-dark-noise/\"]\n",
    "\n",
    "ds_single = \"ds11/\"\n",
    "config = \"../configs/run7_config.yaml\""
   ]
  },
  {
   "cell_type": "code",
   "execution_count": 3,
   "metadata": {},
   "outputs": [],
   "source": [
    "#load the dataset object for the single file selected\n",
    "ds = Dataset.Dataset(topdir+ds_single, config)"
   ]
  },
  {
   "cell_type": "markdown",
   "metadata": {},
   "source": [
    "# Get coincidence events and then plot separately"
   ]
  },
  {
   "cell_type": "code",
   "execution_count": 4,
   "metadata": {},
   "outputs": [],
   "source": [
    "#get any charge events above 2 mV\n",
    "amp_th = 2\n",
    "events = [] #{\"time\": datetime, \"amp\": mV, \"hv\": kV con}\n",
    "for f in ds.ad2_files:\n",
    "    df, date = pickle.load(open(f, \"rb\")) #opens the pandas dataframe object in the pickle file\n",
    "    for evidx, row in df.iterrows():\n",
    "        ch1 = row[\"Data\"][0]\n",
    "        dT = row[\"dT\"]\n",
    "        if(np.max(ch1) > amp_th):\n",
    "            amp = np.max(ch1)\n",
    "            kv = ds.get_hv_at_time(row[\"Seconds\"])\n",
    "            events.append({\"time\":row[\"Seconds\"], \"time_ns\": row[\"Nanoseconds\"], \"amp\":amp, \"hv\":kv})"
   ]
  },
  {
   "cell_type": "code",
   "execution_count": 6,
   "metadata": {},
   "outputs": [
    {
     "name": "stderr",
     "output_type": "stream",
     "text": [
      "/var/folders/nr/f5dqj57n2yg5k0j2_ffmgmzm0000gn/T/ipykernel_36253/2917603932.py:18: RuntimeWarning: More than 20 figures have been opened. Figures created through the pyplot interface (`matplotlib.pyplot.figure`) are retained until explicitly closed and may consume too much memory. (To control this warning, see the rcParam `figure.max_open_warning`). Consider using `matplotlib.pyplot.close()`.\n",
      "  fig, ax_temp = plt.subplots(figsize=(6*3, 6*2), nrows=2, ncols=3)\n"
     ]
    }
   ],
   "source": [
    "plt.ioff()\n",
    "amp_th = 2\n",
    "coinc_window = 0 #second\n",
    "coinc_window_ns = 0.3*1e9 #nanoseconds\n",
    "for f in ds.ad2_files:\n",
    "    df, date = pickle.load(open(f, \"rb\")) #opens the pandas dataframe object in the pickle file\n",
    "    for evidx, row in df.iterrows():\n",
    "        ch1 = row[\"Data\"][0]\n",
    "        dT = row[\"dT\"]\n",
    "        if(np.max(ch1) > amp_th):\n",
    "            pmt_events = ds.find_light_in_vacinity(row[\"Seconds\"], row[\"Nanoseconds\"], coinc_window, coinc_window_ns)\n",
    "            N = len(pmt_events.index)\n",
    "            if(N == 0):\n",
    "                continue\n",
    "            elif(N <= 3):\n",
    "                fig, ax_temp = plt.subplots(figsize=(6*2, 6*2), nrows=2, ncols=2)\n",
    "            elif(N <= 5):\n",
    "                fig, ax_temp = plt.subplots(figsize=(6*3, 6*2), nrows=2, ncols=3)\n",
    "            elif(N <= 7):\n",
    "                fig, ax_temp = plt.subplots(figsize=(6*4, 6*2), nrows=2, ncols=4)\n",
    "            elif(N <= 9):\n",
    "                fig, ax_temp = plt.subplots(figsize=(6*5, 6*2), nrows=2, ncols=5)\n",
    "            elif(N <= 11):\n",
    "                fig, ax_temp = plt.subplots(figsize=(6*6, 6*2), nrows=2, ncols=6)\n",
    "            #flatten this axs object\n",
    "            axs = []\n",
    "            for _ in ax_temp:\n",
    "                if(n_sq == 1):\n",
    "                    axs.append(_)\n",
    "                else:\n",
    "                    for __ in _:\n",
    "                        axs.append(__)\n",
    "\n",
    "            #plot the charge event on \n",
    "            ds.plot_charge(row, ax=axs[0])\n",
    "\n",
    "            for j, pmtrow in pmt_events.iterrows():\n",
    "                ax = axs[j+1]\n",
    "                ds.plot_light(pmtrow, ax=ax)\n",
    "\n",
    "                ax.set_ylim([-30, 100])\n",
    "                ax.set_xlabel(\"time [us]\")\n",
    "                ax.set_ylabel(\"amplitude [mV]\")\n",
    "                timediff = ((pmtrow[\"Seconds\"] - row[\"Seconds\"]) + (pmtrow[\"Nanoseconds\"] - row[\"Nanoseconds\"])/1e9)*1e3\n",
    "                ax.set_title(\"{:.2f} ms time difference\".format(timediff))\n",
    "\n",
    "            #plt.show()\n",
    "            plt.savefig(\"../../../Results/Run7/ds11/coinc-details/\"+str(evidx).zfill(3)+\".png\", bbox_inches='tight')\n",
    "\n",
    "\n"
   ]
  },
  {
   "cell_type": "markdown",
   "metadata": {},
   "source": [
    "# Find events that are well separated from any charge events, and overlay"
   ]
  },
  {
   "cell_type": "code",
   "execution_count": 25,
   "metadata": {},
   "outputs": [],
   "source": [
    "# get times of charge depositing pulses\n",
    "#get any charge events above 2 mV\n",
    "amp_th = 2\n",
    "events = [] #{\"time\": datetime, \"amp\": mV, \"hv\": kV con}\n",
    "for f in ds.ad2_files:\n",
    "    df, date = pickle.load(open(f, \"rb\")) #opens the pandas dataframe object in the pickle file\n",
    "    for evidx, row in df.iterrows():\n",
    "        ch1 = row[\"Data\"][0]\n",
    "        dT = row[\"dT\"]\n",
    "        if(np.max(ch1) > amp_th):\n",
    "            amp = np.max(ch1)\n",
    "            kv = ds.get_hv_at_time(row[\"Seconds\"])\n",
    "            events.append({\"time\":row[\"Seconds\"], \"amp\":amp, \"hv\":kv})\n",
    "\n",
    "ch_events = events"
   ]
  },
  {
   "cell_type": "code",
   "execution_count": 38,
   "metadata": {},
   "outputs": [],
   "source": [
    "plt.ioff()\n",
    "nevts_per_plot = 10\n",
    "nplots = 100\n",
    "proximity = 60 #seconds, minimum distance to any charge deposition phenomena\n",
    "ds.reload_struck_timebounds()\n",
    "for i in range(nplots):\n",
    "    f = np.random.choice(ds.struck_files)\n",
    "    df, date = pickle.load(open(f, \"rb\"))\n",
    "    evs = df.sample(nevts_per_plot, replace=False)\n",
    "    fig, ax = plt.subplots()\n",
    "    \n",
    "    # These are in unitless percentages of the figure size. (0,0 is bottom left)\n",
    "    left, bottom, width, height = [0.6, 0.5, 0.2, 0.2]\n",
    "    ax_in = fig.add_axes([left, bottom, width, height])\n",
    "\n",
    "    ev_counter = 0\n",
    "    for _, ev in evs.iterrows():\n",
    "        #check to make sure that this event is not in proximity\n",
    "        #to charge deposition event\n",
    "        t0 = ev[\"Seconds\"]\n",
    "        dont_plot = False\n",
    "        for ch_ev in ch_events:\n",
    "            if(np.abs(ch_ev[\"time\"] - t0) < proximity):\n",
    "                dont_plot = True\n",
    "        if(dont_plot == False):\n",
    "            ds.plot_light(ev, ax=ax, ax_in=ax_in)\n",
    "            ev_counter += 1\n",
    "    ax_in.set_xlim([0.3, 0.6])\n",
    "    ax_in.patch.set_edgecolor('black')  \n",
    "    ax_in.patch.set_linewidth(1) \n",
    "    ax.set_title(\"{:d} PMT events (two channels) not in proximity to charge depositions\".format(ev_counter))\n",
    "    ax.set_ylim([-30, 200])\n",
    "    \n",
    "    #plt.show()\n",
    "    plt.savefig(\"../../../Results/Run7/cosmics-at-hv-ds11/same-scale/\"+str(i).zfill(3)+\".png\", bbox_inches='tight')\n",
    "        \n",
    "\n",
    "    "
   ]
  },
  {
   "cell_type": "markdown",
   "metadata": {},
   "source": [
    "# Comparison with cosmic waveforms\n"
   ]
  },
  {
   "cell_type": "code",
   "execution_count": 30,
   "metadata": {},
   "outputs": [
    {
     "name": "stdout",
     "output_type": "stream",
     "text": [
      "no ramp file present at ../../data/Run7/cosmics-endofrun/ramp.txt, leaving it empty\n",
      "no g-events-file present at ../../data/Run7/cosmics-endofrun/g_events.txt, leaving it empty\n",
      "No ramp data in this dataset\n",
      "Problem! Found no AD2 files with prefix 'prereduced*.p' in ../../data/Run7/cosmics-endofrun/\n"
     ]
    }
   ],
   "source": [
    "ds_single_cosm = \"cosmics-endofrun/\"\n",
    "#load the dataset object for the single file selected\n",
    "ds_cosm = Dataset.Dataset(topdir+ds_single_cosm, config)"
   ]
  },
  {
   "cell_type": "code",
   "execution_count": 37,
   "metadata": {},
   "outputs": [],
   "source": [
    "plt.ioff()\n",
    "nevts_per_plot = 10\n",
    "nplots = 100\n",
    "proximity = 60 #seconds, minimum distance to any charge deposition phenomena\n",
    "ds.reload_struck_timebounds()\n",
    "for i in range(nplots):\n",
    "    f = np.random.choice(ds.struck_files)\n",
    "    df, date = pickle.load(open(f, \"rb\"))\n",
    "    evs = df.sample(nevts_per_plot, replace=False)\n",
    "    fig, ax = plt.subplots()\n",
    "    \n",
    "    # These are in unitless percentages of the figure size. (0,0 is bottom left)\n",
    "    left, bottom, width, height = [0.6, 0.5, 0.2, 0.2]\n",
    "    ax_in = fig.add_axes([left, bottom, width, height])\n",
    "\n",
    "    ev_counter = 0\n",
    "    for _, ev in evs.iterrows():\n",
    "        ds.plot_light(ev, ax=ax, ax_in=ax_in)\n",
    "        ev_counter += 1\n",
    "    ax_in.set_xlim([0.3, 0.6])\n",
    "    ax_in.patch.set_edgecolor('black')  \n",
    "    ax_in.patch.set_linewidth(1) \n",
    "    ax.set_title(\"{:d} PMT events (two channels) at 0V (cosmics)\".format(ev_counter))\n",
    "    ax.set_ylim([-30, 200])\n",
    "    \n",
    "    plt.savefig(\"../../../Results/Run7/cosmics/same-scale/\"+str(i).zfill(3)+\".png\", bbox_inches='tight')\n",
    "        \n",
    "\n",
    "    "
   ]
  },
  {
   "cell_type": "code",
   "execution_count": 73,
   "metadata": {},
   "outputs": [
    {
     "name": "stdout",
     "output_type": "stream",
     "text": [
      "0\n",
      "1\n"
     ]
    }
   ],
   "source": [
    "for i, row in df.iterrows():\n",
    "    print(row.name)\n",
    "    if(row.name == 1): break"
   ]
  },
  {
   "cell_type": "code",
   "execution_count": null,
   "metadata": {},
   "outputs": [],
   "source": []
  }
 ],
 "metadata": {
  "kernelspec": {
   "display_name": "llnl",
   "language": "python",
   "name": "python3"
  },
  "language_info": {
   "codemirror_mode": {
    "name": "ipython",
    "version": 3
   },
   "file_extension": ".py",
   "mimetype": "text/x-python",
   "name": "python",
   "nbconvert_exporter": "python",
   "pygments_lexer": "ipython3",
   "version": "3.11.3"
  },
  "orig_nbformat": 4
 },
 "nbformat": 4,
 "nbformat_minor": 2
}
