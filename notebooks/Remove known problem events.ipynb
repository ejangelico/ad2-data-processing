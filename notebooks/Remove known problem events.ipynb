{
 "cells": [
  {
   "cell_type": "code",
   "execution_count": 1,
   "metadata": {},
   "outputs": [],
   "source": [
    "import numpy as np \n",
    "import pandas as pd \n",
    "import matplotlib.pyplot as plt \n",
    "import datetime\n",
    "import glob\n",
    "import pickle\n",
    "from datetime import datetime, timedelta\n",
    "import sys\n",
    "from scipy.optimize import curve_fit\n",
    "from matplotlib.lines import Line2D\n",
    "\n",
    "#import the folder that has the analysis level class\n",
    "sys.path.append(\"../CombinedData/\")\n",
    "sys.path.append(\"../AnalysisTools/\")\n",
    "import Dataset\n",
    "import AnalysisTools"
   ]
  },
  {
   "cell_type": "code",
   "execution_count": 2,
   "metadata": {},
   "outputs": [
    {
     "name": "stderr",
     "output_type": "stream",
     "text": [
      "/Users/ejangelico/Documents/Stanford/GasBreakdownChamber/code/ad2-data-processing/notebooks/../AnalysisTools/AnalysisTools.py:127: UserWarning: genfromtxt: Empty input file: \"../../data/Run8/ds03/g_events.txt\"\n",
      "  d = np.genfromtxt(os.path.join(root, self.config[\"g_events_name\"]), delimiter=',', dtype=float)\n"
     ]
    }
   ],
   "source": [
    "topdirs = {5:\"../../data/Run5/\", 6:\"../../data/Run6/\", 7:\"../../data/Run7/\", 8:\"../../data/Run8/\", 9:\"../../data/Run9/\"}\n",
    "configs = {5:\"../configs/run5_config.yaml\", 6:\"../configs/run6_config.yaml\", 7:\"../configs/run7_config.yaml\", 8:\"../configs/run8_config.yaml\", 9:\"../configs/run9_config.yaml\"}\n",
    "titles = {5:\"SS uncoated\", 6:\"Refill of SS uncoated\", 7:\"MgF2 (50nm)\", 8:\"Pt (50nm)\", 9:\"MgF2 (20nm)\"}\n",
    "red_file_name = \"combined_reduced.p\"\n",
    "#analysis tools objects, unloaded data\n",
    "anas = {}\n",
    "for n in topdirs:\n",
    "    anas[n] = AnalysisTools.AnalysisTools(topdirs[n]+red_file_name, configs[n], title=titles[n], ramp_topdir=topdirs[n])\n",
    "\n"
   ]
  },
  {
   "cell_type": "markdown",
   "metadata": {},
   "source": [
    "# What does this notebook do? \n",
    "There are some instances where there are e-logged problems that occur in the run that get reconstructed as charge events but truly are not. This notebook takes combined reduced data and removes those events from the dataframe. So, be careful to check on this notebook when reprocessing reduced data. As the cuts used in this notebook may not be consistent if you change the charge reconstruction, for example. "
   ]
  },
  {
   "cell_type": "code",
   "execution_count": 3,
   "metadata": {},
   "outputs": [],
   "source": [
    "#This is a set of events in Run 7 that are from doing a 20 V/s ramp while at \n",
    "#bad high voltage ramp settings. I believe it was changing the HV every 0.5 second\n",
    "#or so, whereas usually we do every 50 ms. As such, it was introducing enough high frequency\n",
    "#coupling to couple into the charge channel. These were triggered on with an 8000 us window to \n",
    "#see what the noise was, and indeed it was a large ~ 2 mV pulse that gets reconstructed. \n",
    "\n",
    "anas[7].load_dataframe()\n",
    "ana = anas[7]\n",
    "df = ana.df\n",
    "mask = (df[\"ch3 seconds\"] > 1690577547.0) & (df[\"ch3 seconds\"] < 1690577654.0)\n",
    "#for each event that passes the mask, alter the ana.df to have ch3 charge set to None\n",
    "\n",
    "for i in df[mask].index:\n",
    "    ana.df.at[i, \"ch3 charge\"] = None\n",
    "\n",
    "#resave the combined reduced file for this ana df\n",
    "pickle.dump([ana.df], open(topdirs[7]+red_file_name, \"wb\"))"
   ]
  },
  {
   "cell_type": "code",
   "execution_count": null,
   "metadata": {},
   "outputs": [],
   "source": []
  }
 ],
 "metadata": {
  "kernelspec": {
   "display_name": "llnl",
   "language": "python",
   "name": "python3"
  },
  "language_info": {
   "codemirror_mode": {
    "name": "ipython",
    "version": 3
   },
   "file_extension": ".py",
   "mimetype": "text/x-python",
   "name": "python",
   "nbconvert_exporter": "python",
   "pygments_lexer": "ipython3",
   "version": "3.11.6"
  }
 },
 "nbformat": 4,
 "nbformat_minor": 2
}
