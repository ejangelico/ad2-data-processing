{
 "cells": [
  {
   "cell_type": "code",
   "execution_count": 1,
   "metadata": {},
   "outputs": [],
   "source": [
    "import numpy as np \n",
    "import pandas as pd \n",
    "import matplotlib.pyplot as plt \n",
    "import datetime\n",
    "import glob\n",
    "import pickle\n",
    "from datetime import datetime, timedelta\n",
    "import sys\n",
    "from scipy.optimize import curve_fit\n",
    "\n",
    "#import the folder that has the analysis level class\n",
    "sys.path.append(\"../CombinedData/\")\n",
    "sys.path.append(\"../AnalysisTools/\")\n",
    "import Dataset\n",
    "import AnalysisTools"
   ]
  },
  {
   "cell_type": "code",
   "execution_count": 5,
   "metadata": {},
   "outputs": [
    {
     "name": "stderr",
     "output_type": "stream",
     "text": [
      "/Users/ejangelico/Documents/Stanford/GasBreakdownChamber/code/ad2-data-processing/notebooks/../AnalysisTools/AnalysisTools.py:127: UserWarning: genfromtxt: Empty input file: \"../../data/Run8/ds03/g_events.txt\"\n",
      "  d = np.genfromtxt(os.path.join(root, self.config[\"g_events_name\"]), delimiter=',', dtype=float)\n"
     ]
    }
   ],
   "source": [
    "topdirs = {5:\"../../data/Run5/\", 6:\"../../data/Run6/\", 7:\"../../data/Run7/\", 8:\"../../data/Run8/\", 9:\"../../data/Run9/\"}\n",
    "configs = {5:\"../configs/run5_config.yaml\", 6:\"../configs/run6_config.yaml\", 7:\"../configs/run7_config.yaml\", 8:\"../configs/run8_config.yaml\", 9:\"../configs/run9_config.yaml\"}\n",
    "titles = {5:\"SS uncoated\", 6:\"Refill of SS uncoated\", 7:\"Al-MgF2 (50nm)\", 8:\"Al-Pt (50nm)\", 9:\"Al-MgF2 (20nm)\"}\n",
    "red_file_name = \"combined_reduced.p\"\n",
    "#analysis tools objects, unloaded data\n",
    "anas = {}\n",
    "for n in topdirs:\n",
    "    anas[n] = AnalysisTools.AnalysisTools(topdirs[n]+red_file_name, configs[n], title=titles[n], ramp_topdir=topdirs[n])\n",
    "\n"
   ]
  },
  {
   "cell_type": "code",
   "execution_count": 6,
   "metadata": {},
   "outputs": [],
   "source": [
    "#load data into mem if you want\n",
    "for n, ana in anas.items():\n",
    "    if(n != 9): continue\n",
    "    ana.load_dataframe()"
   ]
  },
  {
   "cell_type": "code",
   "execution_count": 7,
   "metadata": {},
   "outputs": [],
   "source": [
    "ana = anas[9]"
   ]
  },
  {
   "cell_type": "markdown",
   "metadata": {},
   "source": [
    "## Starting off with just looking at multipulse charge events. Is there a time constant associated with the time until next pulse"
   ]
  },
  {
   "cell_type": "code",
   "execution_count": null,
   "metadata": {},
   "outputs": [],
   "source": [
    "#get charge events\n",
    "ch_df = ana.df[~ana.df[\"ch3 amp\"].isna()]\n",
    "\n",
    "#get events with more than 1 negative or separately more than 1 positive pulses\n",
    "neg_df = ch_df[ch_df[\"ch3 n negpeaks\"] > 1]\n",
    "pos_df = ch_df[ch_df[\"ch3 n pospeaks\"] > 1]"
   ]
  }
 ],
 "metadata": {
  "kernelspec": {
   "display_name": "llnl",
   "language": "python",
   "name": "python3"
  },
  "language_info": {
   "codemirror_mode": {
    "name": "ipython",
    "version": 3
   },
   "file_extension": ".py",
   "mimetype": "text/x-python",
   "name": "python",
   "nbconvert_exporter": "python",
   "pygments_lexer": "ipython3",
   "version": "3.11.6"
  }
 },
 "nbformat": 4,
 "nbformat_minor": 2
}
