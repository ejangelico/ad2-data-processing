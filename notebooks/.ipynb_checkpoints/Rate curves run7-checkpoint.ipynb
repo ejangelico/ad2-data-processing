{
 "cells": [
  {
   "cell_type": "code",
   "execution_count": 1,
   "id": "ff2688b0",
   "metadata": {},
   "outputs": [],
   "source": [
    "import numpy as np \n",
    "import pandas as pd \n",
    "import matplotlib.pyplot as plt \n",
    "import datetime\n",
    "import glob\n",
    "import pickle\n",
    "import sys\n",
    "plt.style.use(\"~/evanstyle.mplstyle\")\n",
    "\n",
    "sys.path.append(\"../CombinedData/\")\n",
    "import Dataset"
   ]
  },
  {
   "cell_type": "code",
   "execution_count": 14,
   "id": "112f3da6",
   "metadata": {},
   "outputs": [],
   "source": [
    "#topdir = \"../../data/Run7/\"\n",
    "topdir = \"/p/lustre2/nexouser/data/StanfordData/angelico/hv-test-chamber/Run7/\"\n",
    "datasets = [\"cosmics-endofrun/\", \"ds01/\",\"ds02/\",\"ds03/\", \"ds04/\",\"ds05/\",\"ds06/\",\"ds07/\",\\\n",
    "        \"ds08/\",\"ds09/\",\"ds10/\",\"ds11/\",\"filling/\", \"room-temp-dark-noise/\"]\n",
    "\n",
    "ds_single = \"ds01/\"\n",
    "config = \"../configs/run7_config.yaml\""
   ]
  },
  {
   "cell_type": "code",
   "execution_count": 15,
   "id": "a4920437",
   "metadata": {},
   "outputs": [],
   "source": [
    "ds = Dataset.Dataset(topdir+ds_single, config)"
   ]
  },
  {
   "cell_type": "code",
   "execution_count": null,
   "id": "f05d3c5c",
   "metadata": {},
   "outputs": [
    {
     "name": "stdout",
     "output_type": "stream",
     "text": [
      "Extracting timing info from PMT files...\n",
      "Binning in time to get rate\n"
     ]
    },
    {
     "name": "stderr",
     "output_type": "stream",
     "text": [
      "Locator attempting to generate 4559 ticks ([0.00021929824561402536, ..., 0.999780701754389]), which exceeds Locator.MAXTICKS (1000).\n"
     ]
    }
   ],
   "source": [
    "#pmt rate plot settings\n",
    "binwidth = 0.5 #seconds\n",
    "ds.identify_ramps()\n",
    "pmt_times, rates = ds.load_rate_curves_into_ramps(binwidth)\n",
    "\n",
    "#an attempt to make code that will give me the HV ramp curve along with\n",
    "#amplitudes and times of any charge  signals that arrive\n",
    "fig, ax = plt.subplots()\n",
    "\n",
    "for ramp in ds.ramps:\n",
    "    ax.plot(ramp[\"t\"], ramp[\"v_mon\"], 'r', linewidth=1)\n",
    "    \n",
    "for ramp in ds.flat_tops:\n",
    "    ax.plot(ramp[\"t\"], ramp[\"v_mon\"], 'k')\n",
    "    \n",
    "    \n",
    "\n",
    "#get any charge events above 2 mV\n",
    "amp_th = 2\n",
    "events = [] #{\"time\": datetime, \"amp\": mV, \"hv\": kV con}\n",
    "for f in ds.ad2_files:\n",
    "    df, date = pickle.load(open(f, \"rb\")) #opens the pandas dataframe object in the pickle file\n",
    "    for evidx, row in df.iterrows():\n",
    "        ch1 = row[\"Data\"][0]\n",
    "        dT = row[\"dT\"]\n",
    "        if(np.max(ch1) > amp_th):\n",
    "            evt_time = datetime.datetime.fromtimestamp(row[\"Seconds\"])\n",
    "            amp = np.max(ch1)\n",
    "            kv = ds.get_hv_at_time(row[\"Seconds\"])\n",
    "            events.append({\"time\":evt_time, \"amp\":amp, \"hv\":kv})\n",
    "\n",
    "for ev in events:\n",
    "    ax.scatter(ev[\"time\"], ev[\"hv\"], s=15*ev[\"amp\"], color='k', alpha=0.3)\n",
    "\n",
    "\n",
    "gap = 0.285 #cm\n",
    "axe = ax.twinx()\n",
    "axe.set_yticks(np.array(ax.get_yticks())/gap)\n",
    "axe.set_ylabel('Bulk field [kV/cm]', labelpad=10)\n",
    "axe.grid(False)\n",
    "\n",
    "\n",
    "axp = ax.twinx()\n",
    "axp.plot(pmt_times, rates, '-.', linewidth=2, alpha=0.3,color='navy')\n",
    "axp.spines.right.set_position((\"axes\", 1.2))\n",
    "axp.set_ylabel(\"PMT Coincidence Rate [Hz] ({:.1f} sec bin width)\".format(binwidth))\n",
    "\n",
    "ax.set_ylabel(\"Applied HV [kV]\")\n",
    "ax.set_xlabel(\"Day H:M\")\n",
    "ax.set_title(\"Run 7, ds11 history\")\n",
    "ax.grid(False)\n",
    "axp.grid(False)\n",
    "#ax.set_xlim([datetime.datetime(2023, 7, 31, 16, 0, 0), datetime.datetime(2023, 7, 31, 16, 1, 30)])\n",
    "#ax.set_ylim([10.5, 11.5])\n",
    "plt.show()"
   ]
  },
  {
   "cell_type": "code",
   "execution_count": null,
   "id": "a872f811",
   "metadata": {},
   "outputs": [],
   "source": []
  }
 ],
 "metadata": {
  "kernelspec": {
   "display_name": "Python 3 (ipykernel)",
   "language": "python",
   "name": "python3"
  },
  "language_info": {
   "codemirror_mode": {
    "name": "ipython",
    "version": 3
   },
   "file_extension": ".py",
   "mimetype": "text/x-python",
   "name": "python",
   "nbconvert_exporter": "python",
   "pygments_lexer": "ipython3",
   "version": "3.9.12"
  }
 },
 "nbformat": 4,
 "nbformat_minor": 5
}
