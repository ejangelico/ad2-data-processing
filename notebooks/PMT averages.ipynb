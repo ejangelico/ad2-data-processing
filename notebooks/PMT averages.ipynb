{
 "cells": [
  {
   "cell_type": "code",
   "execution_count": 1,
   "id": "68936c13",
   "metadata": {},
   "outputs": [],
   "source": [
    "import numpy as np \n",
    "import pandas as pd \n",
    "import matplotlib.pyplot as plt \n",
    "import datetime\n",
    "import glob\n",
    "import pickle\n",
    "from datetime import datetime, timedelta\n",
    "import sys\n",
    "from scipy.optimize import curve_fit\n",
    "\n",
    "#import the folder that has the analysis level class\n",
    "sys.path.append(\"../CombinedData/\")\n",
    "sys.path.append(\"../AnalysisTools/\")\n",
    "import Dataset\n",
    "import AnalysisTools\n"
   ]
  },
  {
   "cell_type": "code",
   "execution_count": 2,
   "id": "944f82bf",
   "metadata": {},
   "outputs": [
    {
     "name": "stderr",
     "output_type": "stream",
     "text": [
      "/g/g15/angelico/ad2-data-processing/notebooks/../AnalysisTools/AnalysisTools.py:127: UserWarning: genfromtxt: Empty input file: \"/p/lustre2/nexouser/data/StanfordData/angelico/hv-test-chamber/Run8/ds03/g_events.txt\"\n",
      "  d = np.genfromtxt(os.path.join(root, self.config[\"g_events_name\"]), delimiter=',', dtype=float)\n"
     ]
    }
   ],
   "source": [
    "common = \"/p/lustre2/nexouser/data/StanfordData/angelico/hv-test-chamber/\"\n",
    "topdirs = {5:\"{}Run5/\".format(common), 6:\"{}Run6/\".format(common), 7:\"{}Run7/\".format(common), 8:\"{}Run8/\".format(common), 9:\"{}Run9/\".format(common)}\n",
    "configs = {5:\"../configs/run5_config.yaml\", 6:\"../configs/run6_config.yaml\", 7:\"../configs/run7_config.yaml\", 8:\"../configs/run8_config.yaml\", 9:\"../configs/run9_config.yaml\"}\n",
    "titles = {5:\"SS uncoated\", 6:\"Refill of SS uncoated\", 7:\"Al-MgF2 (50nm)\", 8:\"Al-Pt (50nm)\", 9:\"Al-MgF2 (20nm)\"}\n",
    "red_file_name = \"combined_reduced.p\"\n",
    "#analysis tools objects, unloaded data\n",
    "anas = {}\n",
    "for n in topdirs:\n",
    "    anas[n] = AnalysisTools.AnalysisTools(topdirs[n]+red_file_name, configs[n], title=titles[n], ramp_topdir=topdirs[n])\n"
   ]
  },
  {
   "cell_type": "code",
   "execution_count": null,
   "id": "c9fe6977",
   "metadata": {},
   "outputs": [],
   "source": []
  }
 ],
 "metadata": {
  "kernelspec": {
   "display_name": "angelico-kernel-2023",
   "language": "python",
   "name": "angelico-kernel-2023"
  },
  "language_info": {
   "codemirror_mode": {
    "name": "ipython",
    "version": 3
   },
   "file_extension": ".py",
   "mimetype": "text/x-python",
   "name": "python",
   "nbconvert_exporter": "python",
   "pygments_lexer": "ipython3",
   "version": "3.9.12"
  }
 },
 "nbformat": 4,
 "nbformat_minor": 5
}
